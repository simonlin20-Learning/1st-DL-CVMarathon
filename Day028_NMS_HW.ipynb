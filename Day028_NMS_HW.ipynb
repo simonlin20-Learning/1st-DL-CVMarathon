{
 "cells": [
  {
   "cell_type": "code",
   "execution_count": null,
   "metadata": {},
   "outputs": [],
   "source": [
    "import cv2\n",
    "import numpy as np\n",
    "import matplotlib.pyplot as plt\n",
    "%matplotlib inline\n",
    "\n",
    "def nms(bounding_boxes, confidence_score, threshold):\n",
    "    # If no bounding boxes, return empty list\n",
    "    if len(bounding_boxes) == 0:\n",
    "        return [], []\n",
    "\n",
    "   \n",
    "    boxes = np.array(bounding_boxes)\n",
    "\n",
    "    '''取出每一個BOX的 x1,y1,x2,y2'''\n",
    "    start_x = boxes[:, 0]\n",
    "    start_y = boxes[:, 1]\n",
    "    end_x = boxes[:, 2]\n",
    "    end_y = boxes[:, 3]\n",
    "\n",
    "    # Confidence scores of bounding boxes\n",
    "    score = np.array(confidence_score)\n",
    "\n",
    "    '''預設list用來保存BBOX'''\n",
    "    picked_boxes = []\n",
    "    picked_score = []\n",
    "\n",
    "    '''計算每一個BOX的面積'''\n",
    "    areas = (end_x - start_x + 1) * (end_y - start_y + 1)\n",
    "    '''排列BOX分數'''\n",
    "    order = np.argsort(score)\n",
    "\n",
    "    # Iterate bounding boxes\n",
    "    while order.size > 0:\n",
    "        # The index of largest confidence score\n",
    "        '''當前confidence最大的預測框'''\n",
    "        index = order[-1]\n",
    "\n",
    "        # Pick the bounding box with largest confidence score\n",
    "        '''保存這個BBOX'''\n",
    "        picked_boxes.append(bounding_boxes[index])\n",
    "        picked_score.append(confidence_score[index])\n",
    "\n",
    "        # Compute ordinates of intersection-over-union(IOU)\n",
    "        '''計算Boxes與最高分BOX之間的IOU'''\n",
    "        x1 = np.maximum(start_x[index], start_x[order[:-1]])\n",
    "        x2 = np.minimum(end_x[index], end_x[order[:-1]])\n",
    "        y1 = np.maximum(start_y[index], start_y[order[:-1]])\n",
    "        y2 = np.minimum(end_y[index], end_y[order[:-1]])\n",
    "\n",
    "        # Compute areas of intersection-over-union\n",
    "        w = np.maximum(0.0, x2 - x1 + 1)\n",
    "        h = np.maximum(0.0, y2 - y1 + 1)\n",
    "        intersection = w * h\n",
    "\n",
    "        '''計算IOU'''\n",
    "        ratio = intersection / (areas[index] + areas[order[:-1]] - intersection)\n",
    "        \n",
    "        '''重疊率小於預測threshold的Boxes要保存下來'''\n",
    "        left = np.where(ratio<threshold)\n",
    "        order = order[left]\n",
    "\n",
    "    return picked_boxes, picked_score\n"
   ]
  },
  {
   "cell_type": "code",
   "execution_count": null,
   "metadata": {},
   "outputs": [],
   "source": [
    "# Image name\n",
    "image_name = 'nms.jpg'\n",
    "\n",
    "# Bounding boxes\n",
    "bounding_boxes = [(200, 82, 350, 317), (180, 67, 305, 282), (200, 90, 368, 304)]\n",
    "confidence_score = [0.9, 0.75, 0.8]\n",
    "\n",
    "# Read image\n",
    "image = cv2.imread(image_name)\n",
    "\n",
    "# Copy image as original\n",
    "org = image.copy()\n",
    "\n",
    "# Draw parameters\n",
    "font = cv2.FONT_HERSHEY_SIMPLEX\n",
    "font_scale = 1\n",
    "thickness = 2\n",
    "\n",
    "'''IoU threshold :重疊超過多少就過濾掉'''\n",
    "threshold = 0.5"
   ]
  },
  {
   "cell_type": "code",
   "execution_count": null,
   "metadata": {},
   "outputs": [],
   "source": [
    "# Draw bounding boxes and confidence score\n",
    "for (start_x, start_y, end_x, end_y), confidence in zip(bounding_boxes, confidence_score):\n",
    "    (w, h), baseline = cv2.getTextSize(str(confidence), font, font_scale, thickness)\n",
    "    cv2.rectangle(org, (start_x, start_y - (2 * baseline + 5)), (start_x + w, start_y), (0, 255, 255), -1)\n",
    "    cv2.rectangle(org, (start_x, start_y), (end_x, end_y), (0, 255, 255), 2)\n",
    "    cv2.putText(org, str(confidence), (start_x, start_y), font, font_scale, (0, 0, 0), thickness)\n",
    "# Show image\n",
    "plt.imshow(org[:,:,::-1])\n",
    "plt.show()"
   ]
  },
  {
   "cell_type": "code",
   "execution_count": null,
   "metadata": {},
   "outputs": [],
   "source": [
    "# Run non-max suppression algorithm\n",
    "picked_boxes, picked_score = nms(bounding_boxes, confidence_score, threshold)\n",
    "\n",
    "# Draw bounding boxes and confidence score after non-maximum supression\n",
    "for (start_x, start_y, end_x, end_y), confidence in zip(picked_boxes, picked_score):\n",
    "    (w, h), baseline = cv2.getTextSize(str(confidence), font, font_scale, thickness)\n",
    "    cv2.rectangle(image, (start_x, start_y - (2 * baseline + 5)), (start_x + w, start_y), (0, 255, 255), -1)\n",
    "    cv2.rectangle(image, (start_x, start_y), (end_x, end_y), (0, 255, 255), 2)\n",
    "    cv2.putText(image, str(confidence), (start_x, start_y), font, font_scale, (0, 0, 0), thickness)\n",
    "\n",
    "plt.imshow(image[:,:,::-1])\n",
    "plt.show()"
   ]
  },
  {
   "cell_type": "code",
   "execution_count": null,
   "metadata": {},
   "outputs": [],
   "source": [
    "# Show image\n",
    "plt.imshow(org[:,:,::-1])\n",
    "plt.show()\n",
    "plt.imshow(image[:,:,::-1])\n",
    "plt.show()"
   ]
  },
  {
   "cell_type": "code",
   "execution_count": null,
   "metadata": {},
   "outputs": [],
   "source": []
  },
  {
   "cell_type": "code",
   "execution_count": null,
   "metadata": {},
   "outputs": [],
   "source": []
  }
 ],
 "metadata": {
  "kernelspec": {
   "display_name": "Python 3",
   "language": "python",
   "name": "python3"
  },
  "language_info": {
   "codemirror_mode": {
    "name": "ipython",
    "version": 3
   },
   "file_extension": ".py",
   "mimetype": "text/x-python",
   "name": "python",
   "nbconvert_exporter": "python",
   "pygments_lexer": "ipython3",
   "version": "3.7.4"
  }
 },
 "nbformat": 4,
 "nbformat_minor": 2
}
