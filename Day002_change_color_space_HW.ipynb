import cv2
img_path = "data/lena.png"


imgRBG = cv2.imread(img_path,cv2.IMREAD_COLOR)
imgHSV = cv2.cvtColor(imgRBG,cv2.COLOR_BGR2HSV)
imgHSL = cv2.cvtColor(imgRBG,cv2.COLOR_BGR2HLS)
imgLAB = cv2.cvtColor(imgRBG,cv2.COLOR_BGR2LAB)

cv2.imshow("RBG",imgRBG)
cv2.imshow("HSV",imgHSV)
cv2.imshow("HSL",imgHSL)
cv2.imshow("LAB",imgLAB)
cv2.waitKey(0)

